{
 "cells": [
  {
   "cell_type": "markdown",
   "id": "2ff3313b",
   "metadata": {},
   "source": [
    "# Google Play Store"
   ]
  },
  {
   "cell_type": "code",
   "execution_count": 1,
   "id": "88ac5c88",
   "metadata": {},
   "outputs": [],
   "source": [
    "import matplotlib.pyplot as plt\n",
    "import numpy as np\n",
    "import seaborn as sns\n",
    "import pandas as pd"
   ]
  },
  {
   "cell_type": "markdown",
   "id": "b1ffc4a7",
   "metadata": {},
   "source": [
    "First, we'll load the dataset into memory. Here, we're using pandas to read a CSV file."
   ]
  },
  {
   "cell_type": "code",
   "execution_count": 2,
   "id": "8e84dd5f",
   "metadata": {},
   "outputs": [
    {
     "data": {
      "text/html": [
       "<div>\n",
       "<style scoped>\n",
       "    .dataframe tbody tr th:only-of-type {\n",
       "        vertical-align: middle;\n",
       "    }\n",
       "\n",
       "    .dataframe tbody tr th {\n",
       "        vertical-align: top;\n",
       "    }\n",
       "\n",
       "    .dataframe thead th {\n",
       "        text-align: right;\n",
       "    }\n",
       "</style>\n",
       "<table border=\"1\" class=\"dataframe\">\n",
       "  <thead>\n",
       "    <tr style=\"text-align: right;\">\n",
       "      <th></th>\n",
       "      <th>App</th>\n",
       "      <th>Category</th>\n",
       "      <th>Rating</th>\n",
       "      <th>Reviews</th>\n",
       "      <th>Size</th>\n",
       "      <th>Installs</th>\n",
       "      <th>Type</th>\n",
       "      <th>Price</th>\n",
       "      <th>Content Rating</th>\n",
       "      <th>Genres</th>\n",
       "      <th>Last Updated</th>\n",
       "      <th>Current Ver</th>\n",
       "      <th>Android Ver</th>\n",
       "    </tr>\n",
       "  </thead>\n",
       "  <tbody>\n",
       "    <tr>\n",
       "      <th>0</th>\n",
       "      <td>Photo Editor &amp; Candy Camera &amp; Grid &amp; ScrapBook</td>\n",
       "      <td>ART_AND_DESIGN</td>\n",
       "      <td>4.1</td>\n",
       "      <td>159</td>\n",
       "      <td>19M</td>\n",
       "      <td>10,000+</td>\n",
       "      <td>Free</td>\n",
       "      <td>0</td>\n",
       "      <td>Everyone</td>\n",
       "      <td>Art &amp; Design</td>\n",
       "      <td>January 7, 2018</td>\n",
       "      <td>1.0.0</td>\n",
       "      <td>4.0.3 and up</td>\n",
       "    </tr>\n",
       "    <tr>\n",
       "      <th>1</th>\n",
       "      <td>Coloring book moana</td>\n",
       "      <td>ART_AND_DESIGN</td>\n",
       "      <td>3.9</td>\n",
       "      <td>967</td>\n",
       "      <td>14M</td>\n",
       "      <td>500,000+</td>\n",
       "      <td>Free</td>\n",
       "      <td>0</td>\n",
       "      <td>Everyone</td>\n",
       "      <td>Art &amp; Design;Pretend Play</td>\n",
       "      <td>January 15, 2018</td>\n",
       "      <td>2.0.0</td>\n",
       "      <td>4.0.3 and up</td>\n",
       "    </tr>\n",
       "    <tr>\n",
       "      <th>2</th>\n",
       "      <td>U Launcher Lite – FREE Live Cool Themes, Hide ...</td>\n",
       "      <td>ART_AND_DESIGN</td>\n",
       "      <td>4.7</td>\n",
       "      <td>87510</td>\n",
       "      <td>8.7M</td>\n",
       "      <td>5,000,000+</td>\n",
       "      <td>Free</td>\n",
       "      <td>0</td>\n",
       "      <td>Everyone</td>\n",
       "      <td>Art &amp; Design</td>\n",
       "      <td>August 1, 2018</td>\n",
       "      <td>1.2.4</td>\n",
       "      <td>4.0.3 and up</td>\n",
       "    </tr>\n",
       "    <tr>\n",
       "      <th>3</th>\n",
       "      <td>Sketch - Draw &amp; Paint</td>\n",
       "      <td>ART_AND_DESIGN</td>\n",
       "      <td>4.5</td>\n",
       "      <td>215644</td>\n",
       "      <td>25M</td>\n",
       "      <td>50,000,000+</td>\n",
       "      <td>Free</td>\n",
       "      <td>0</td>\n",
       "      <td>Teen</td>\n",
       "      <td>Art &amp; Design</td>\n",
       "      <td>June 8, 2018</td>\n",
       "      <td>Varies with device</td>\n",
       "      <td>4.2 and up</td>\n",
       "    </tr>\n",
       "    <tr>\n",
       "      <th>4</th>\n",
       "      <td>Pixel Draw - Number Art Coloring Book</td>\n",
       "      <td>ART_AND_DESIGN</td>\n",
       "      <td>4.3</td>\n",
       "      <td>967</td>\n",
       "      <td>2.8M</td>\n",
       "      <td>100,000+</td>\n",
       "      <td>Free</td>\n",
       "      <td>0</td>\n",
       "      <td>Everyone</td>\n",
       "      <td>Art &amp; Design;Creativity</td>\n",
       "      <td>June 20, 2018</td>\n",
       "      <td>1.1</td>\n",
       "      <td>4.4 and up</td>\n",
       "    </tr>\n",
       "  </tbody>\n",
       "</table>\n",
       "</div>"
      ],
      "text/plain": [
       "                                                 App        Category  Rating  \\\n",
       "0     Photo Editor & Candy Camera & Grid & ScrapBook  ART_AND_DESIGN     4.1   \n",
       "1                                Coloring book moana  ART_AND_DESIGN     3.9   \n",
       "2  U Launcher Lite – FREE Live Cool Themes, Hide ...  ART_AND_DESIGN     4.7   \n",
       "3                              Sketch - Draw & Paint  ART_AND_DESIGN     4.5   \n",
       "4              Pixel Draw - Number Art Coloring Book  ART_AND_DESIGN     4.3   \n",
       "\n",
       "  Reviews  Size     Installs  Type Price Content Rating  \\\n",
       "0     159   19M      10,000+  Free     0       Everyone   \n",
       "1     967   14M     500,000+  Free     0       Everyone   \n",
       "2   87510  8.7M   5,000,000+  Free     0       Everyone   \n",
       "3  215644   25M  50,000,000+  Free     0           Teen   \n",
       "4     967  2.8M     100,000+  Free     0       Everyone   \n",
       "\n",
       "                      Genres      Last Updated         Current Ver  \\\n",
       "0               Art & Design   January 7, 2018               1.0.0   \n",
       "1  Art & Design;Pretend Play  January 15, 2018               2.0.0   \n",
       "2               Art & Design    August 1, 2018               1.2.4   \n",
       "3               Art & Design      June 8, 2018  Varies with device   \n",
       "4    Art & Design;Creativity     June 20, 2018                 1.1   \n",
       "\n",
       "    Android Ver  \n",
       "0  4.0.3 and up  \n",
       "1  4.0.3 and up  \n",
       "2  4.0.3 and up  \n",
       "3    4.2 and up  \n",
       "4    4.4 and up  "
      ]
     },
     "execution_count": 2,
     "metadata": {},
     "output_type": "execute_result"
    }
   ],
   "source": [
    "df = pd.read_csv('googleplaystore.csv')\n",
    "df.head()"
   ]
  },
  {
   "cell_type": "markdown",
   "id": "d50e6c09",
   "metadata": {},
   "source": [
    "## Exploring data"
   ]
  },
  {
   "cell_type": "code",
   "execution_count": 3,
   "id": "535b297a",
   "metadata": {},
   "outputs": [
    {
     "name": "stdout",
     "output_type": "stream",
     "text": [
      "<class 'pandas.core.frame.DataFrame'>\n",
      "RangeIndex: 10841 entries, 0 to 10840\n",
      "Data columns (total 13 columns):\n",
      " #   Column          Non-Null Count  Dtype  \n",
      "---  ------          --------------  -----  \n",
      " 0   App             10841 non-null  object \n",
      " 1   Category        10841 non-null  object \n",
      " 2   Rating          9367 non-null   float64\n",
      " 3   Reviews         10841 non-null  object \n",
      " 4   Size            10841 non-null  object \n",
      " 5   Installs        10841 non-null  object \n",
      " 6   Type            10840 non-null  object \n",
      " 7   Price           10841 non-null  object \n",
      " 8   Content Rating  10840 non-null  object \n",
      " 9   Genres          10841 non-null  object \n",
      " 10  Last Updated    10841 non-null  object \n",
      " 11  Current Ver     10833 non-null  object \n",
      " 12  Android Ver     10838 non-null  object \n",
      "dtypes: float64(1), object(12)\n",
      "memory usage: 1.1+ MB\n"
     ]
    }
   ],
   "source": [
    "df.info()"
   ]
  },
  {
   "cell_type": "code",
   "execution_count": 4,
   "id": "55e89c41",
   "metadata": {},
   "outputs": [
    {
     "data": {
      "text/html": [
       "<div>\n",
       "<style scoped>\n",
       "    .dataframe tbody tr th:only-of-type {\n",
       "        vertical-align: middle;\n",
       "    }\n",
       "\n",
       "    .dataframe tbody tr th {\n",
       "        vertical-align: top;\n",
       "    }\n",
       "\n",
       "    .dataframe thead th {\n",
       "        text-align: right;\n",
       "    }\n",
       "</style>\n",
       "<table border=\"1\" class=\"dataframe\">\n",
       "  <thead>\n",
       "    <tr style=\"text-align: right;\">\n",
       "      <th></th>\n",
       "      <th>Rating</th>\n",
       "    </tr>\n",
       "  </thead>\n",
       "  <tbody>\n",
       "    <tr>\n",
       "      <th>count</th>\n",
       "      <td>9367.000000</td>\n",
       "    </tr>\n",
       "    <tr>\n",
       "      <th>mean</th>\n",
       "      <td>4.193338</td>\n",
       "    </tr>\n",
       "    <tr>\n",
       "      <th>std</th>\n",
       "      <td>0.537431</td>\n",
       "    </tr>\n",
       "    <tr>\n",
       "      <th>min</th>\n",
       "      <td>1.000000</td>\n",
       "    </tr>\n",
       "    <tr>\n",
       "      <th>25%</th>\n",
       "      <td>4.000000</td>\n",
       "    </tr>\n",
       "    <tr>\n",
       "      <th>50%</th>\n",
       "      <td>4.300000</td>\n",
       "    </tr>\n",
       "    <tr>\n",
       "      <th>75%</th>\n",
       "      <td>4.500000</td>\n",
       "    </tr>\n",
       "    <tr>\n",
       "      <th>max</th>\n",
       "      <td>19.000000</td>\n",
       "    </tr>\n",
       "  </tbody>\n",
       "</table>\n",
       "</div>"
      ],
      "text/plain": [
       "            Rating\n",
       "count  9367.000000\n",
       "mean      4.193338\n",
       "std       0.537431\n",
       "min       1.000000\n",
       "25%       4.000000\n",
       "50%       4.300000\n",
       "75%       4.500000\n",
       "max      19.000000"
      ]
     },
     "execution_count": 4,
     "metadata": {},
     "output_type": "execute_result"
    }
   ],
   "source": [
    "df.describe()"
   ]
  },
  {
   "cell_type": "code",
   "execution_count": 5,
   "id": "0b283bd9",
   "metadata": {},
   "outputs": [
    {
     "name": "stdout",
     "output_type": "stream",
     "text": [
      "               Category  Count\n",
      "0                FAMILY   1972\n",
      "1                  GAME   1144\n",
      "2                 TOOLS    843\n",
      "3               MEDICAL    463\n",
      "4              BUSINESS    460\n",
      "5          PRODUCTIVITY    424\n",
      "6       PERSONALIZATION    392\n",
      "7         COMMUNICATION    387\n",
      "8                SPORTS    384\n",
      "9             LIFESTYLE    382\n",
      "10              FINANCE    366\n",
      "11   HEALTH_AND_FITNESS    341\n",
      "12          PHOTOGRAPHY    335\n",
      "13               SOCIAL    295\n",
      "14   NEWS_AND_MAGAZINES    283\n",
      "15             SHOPPING    260\n",
      "16     TRAVEL_AND_LOCAL    258\n",
      "17               DATING    234\n",
      "18  BOOKS_AND_REFERENCE    231\n",
      "19        VIDEO_PLAYERS    175\n",
      "20            EDUCATION    156\n",
      "21        ENTERTAINMENT    149\n",
      "22  MAPS_AND_NAVIGATION    137\n",
      "23       FOOD_AND_DRINK    127\n",
      "24       HOUSE_AND_HOME     88\n",
      "25   LIBRARIES_AND_DEMO     85\n",
      "26    AUTO_AND_VEHICLES     85\n",
      "27              WEATHER     82\n",
      "28       ART_AND_DESIGN     65\n",
      "29               EVENTS     64\n",
      "30            PARENTING     60\n",
      "31               COMICS     60\n",
      "32               BEAUTY     53\n",
      "33                  1.9      1\n"
     ]
    }
   ],
   "source": [
    "category_counts = df['Category'].value_counts().reset_index()\n",
    "\n",
    "# Rename the columns for better readability\n",
    "category_counts.columns = ['Category', 'Count']\n",
    "\n",
    "# Sort the result for better readability\n",
    "category_counts = category_counts.sort_values(by='Count', ascending=False)\n",
    "\n",
    "# Display the count of each category\n",
    "print(category_counts)"
   ]
  },
  {
   "cell_type": "markdown",
   "id": "98a7a753",
   "metadata": {},
   "source": [
    "## Cleaning duplicates"
   ]
  },
  {
   "cell_type": "code",
   "execution_count": 6,
   "id": "870d602b",
   "metadata": {},
   "outputs": [
    {
     "data": {
      "text/plain": [
       "483"
      ]
     },
     "execution_count": 6,
     "metadata": {},
     "output_type": "execute_result"
    }
   ],
   "source": [
    "df.duplicated().sum()"
   ]
  },
  {
   "cell_type": "code",
   "execution_count": 7,
   "id": "3674590b",
   "metadata": {},
   "outputs": [
    {
     "data": {
      "text/plain": [
       "1181"
      ]
     },
     "execution_count": 7,
     "metadata": {},
     "output_type": "execute_result"
    }
   ],
   "source": [
    "df.duplicated(subset='App').sum()"
   ]
  },
  {
   "cell_type": "code",
   "execution_count": 8,
   "id": "0b871974",
   "metadata": {},
   "outputs": [
    {
     "name": "stdout",
     "output_type": "stream",
     "text": [
      "                                                   App  counts\n",
      "570                                             ROBLOX       8\n",
      "102  CBS Sports App - Scores, News, Stats & Watch Live       7\n",
      "211                     Duolingo: Learn Languages Free       6\n",
      "218                                               ESPN       6\n",
      "6                                          8 Ball Pool       6\n",
      "..                                                 ...     ...\n",
      "301                     Golfshot: Golf GPS + Tee Times       1\n",
      "302                                             Google       1\n",
      "305                                   Google Analytics       1\n",
      "311              Google Duo - High Quality Video Calls       1\n",
      "797                     wetter.com - Weather and Radar       1\n",
      "\n",
      "[798 rows x 2 columns]\n"
     ]
    }
   ],
   "source": [
    "duplicates_app = df[df.duplicated(['App'])].groupby('App').size().reset_index(name='counts')\n",
    "print(duplicates_app.sort_values(by='counts', ascending=False))"
   ]
  },
  {
   "cell_type": "code",
   "execution_count": 9,
   "id": "6e401b28",
   "metadata": {},
   "outputs": [
    {
     "name": "stdout",
     "output_type": "stream",
     "text": [
      "Duplicate applications sorted alphabetically: ['10 Best Foods for You', '1800 Contacts - Lens Store', '2017 EMRA Antibiotic Guide', '21-Day Meditation Experience', '365Scores - Live Scores', '420 BZ Budeze Delivery', '8 Ball Pool', '8fit Workouts & Meal Planner', '95Live -SG#1 Live Streaming App', 'A Manual of Acupuncture', 'A&E - Watch Full Episodes of TV Shows', 'AAFP', 'ABC News - US & World News', 'AC - Tips & News for Android™', 'AP Mobile - Breaking News', 'ASCCP Mobile', 'ASOS', 'Accounting App - Zoho Books', 'AccuWeather: Daily Forecast & Live Weather Reports', 'Acorns - Invest Spare Change', 'AdWords Express', 'Ada - Your Health Guide', 'Adobe Acrobat Reader', 'Adobe Photoshop Express:Photo Editor Collage Maker', 'Adult Dirty Emojis', 'Advanced Comprehension Therapy', 'Agar.io', 'Airbnb', 'Airway Ex - Intubate. Anesthetize. Train.', 'AliExpress - Smarter Shopping, Better Living', 'All Football - Latest News & Videos', 'All Mental disorders', 'All Social Networks', \"Alto's Adventure\", 'Amazon Kindle', 'Amazon Shopping', 'Amazon for Tablets', 'American Airlines', 'Amino: Communities and Chats', 'AnatomyMapp', 'Android Messages', 'Anger of stick 5 : zombie', 'Angry Birds 2', 'Angry Birds Classic', 'Angry Birds Rio', 'Animal Jam - Play Wild!', 'Anthem Anywhere', 'Anthem BC Anywhere', 'Any.do: To-do list, Calendar, Reminders & Planner', 'Apartment List: Housing, Apt, and Property Rentals', 'Apartments & Rentals - Zillow', 'Apartments.com Rental Search', 'Apex Launcher', 'Asana: organize team projects', 'Avokiddo Emotions', 'B612 - Beauty & Filter Camera', 'BBC News', 'BBC Sport', 'BBM - Free Calls & Messages', 'BBW Dating & Curvy Singles Chat- LargeFriends', 'BBW Dating & Plus Size Chat', 'BET NOW - Watch Shows', 'BP Journal - Blood Pressure Diary', 'BZWBK24 mobile', 'Babbel – Learn Languages', 'Baby Panda Care', 'Backgrounds HD (Wallpapers)', 'Badoo - Free Chat & Dating App', 'Banfield Pet Health Tracker', 'Barbie™ Fashion Closet', 'Beautiful Widgets Free', 'Beautiful Widgets Pro', 'BeautyPlus - Easy Photo Editor & Selfie Camera', 'Best Fiends - Free Puzzle Game', 'BeyondMenu Food Delivery', 'Bita and the Animals - Pelos Ares', 'Black People Meet Singles Date', 'Black White Interracial Dating - Interracial Match', 'Bleacher Report: sports news, scores, & highlights', 'Blendr - Chat, Flirt & Meet', 'Block Buddy', 'Block Craft 3D: Building Simulator Games For Free', 'Block Puzzle', 'Block Puzzle Classic Legend !', 'Blood Pressure', 'Blood Pressure Companion', 'Blood Pressure Log - MyDiary', 'Blood Pressure Monitor', 'Blood Pressure(BP) Diary', 'Blur Image Background', 'Booking.com Travel Deals', 'Bowmasters', 'Box', 'Breastfeeding Tracker Baby Log', 'Brilliant', 'Brit + Co', 'British Airways', 'Bubble Shooter', 'Bubble Shooter 2', 'BuzzFeed: News, Tasty, Quizzes', 'C Programming', 'CBS - Full Episodes & Live TV', 'CBS Sports App - Scores, News, Stats & Watch Live', 'CBS Sports Fantasy', 'CJmall', 'CM Browser - Ad Blocker , Fast Download , Privacy', 'CM FILE MANAGER HD', 'CM Flashlight (Compass, SOS)', 'CM Launcher 3D - Theme, Wallpapers, Efficient', 'CM Locker - Security Lockscreen', 'CMB Free Dating App', 'CNBC: Breaking Business News & Live Market Data', 'CNN Breaking US & World News', \"COOKING MAMA Let's Cook!\", 'CT Scan Cross Sectional Anatomy', 'CW Seed', 'Cache Cleaner-DU Speed Booster (booster & cleaner)', 'Calculator', 'Call Blocker', 'CallApp: Caller ID, Blocker & Phone Call Recorder', 'Calls & Text by Mo+', 'Calm - Meditate, Sleep, Relax', 'Calorie Counter & Diet Tracker', 'Calorie Counter - Macros', 'Calorie Counter - MyFitnessPal', 'Calorie Counter - MyNetDiary', 'Calorie Counter by FatSecret', 'Camera FV-5', 'Camera FV-5 Lite', 'Camera MX - Free Photo & Video Camera', 'Camera for Android', 'Camera360 Lite - Selfie Camera', 'Camera360: Selfie Photo Editor with Funny Sticker', 'Candy Bomb', 'Candy Camera - selfie, beauty camera, photo editor', 'Candy Crush Jelly Saga', 'Candy Crush Saga', 'Candy Crush Soda Saga', 'Capital One® Mobile', 'Cardboard', 'Cardi B Live Stream Video Chat - Prank', 'Cardiac diagnosis (heart rate, arrhythmia)', 'Carousell: Snap-Sell, Chat-Buy', 'Cartoon Network App', 'Castle Clash: Heroes of the Empire US', 'Casual Dating & Adult Singles - Joyride', 'Chat Kids - Chat Room For Kids', 'Chat Rooms, Avatars, Date - Galaxy', 'Cheapflights – Flight Search', 'Checkout 51: Grocery coupons', 'Chess Free', 'Chick-fil-A', 'Chictopia', 'Chispa, the Dating App for Latino, Latina Singles', 'Choices: Stories You Play', 'Christian Dating For Free App', 'Chrome Beta', 'Chrome Dev', 'Clash Royale', 'Clash of Clans', 'ClassDojo', 'Clover Dating App', 'Color by Number – New Coloring Book', 'ColorNote Notepad Notes', 'Colorfy: Coloring Book for Adults - Free', 'Coloring book moana', 'Comedy Central', 'Cooking Fever', 'Cougar Dating Life : Date Older Women Sugar Mummy', 'Couple - Relationship App', 'Coursera: Online courses', 'CppDroid - C/C++ IDE', 'Crackle - Free TV & Movies', 'Credit Karma', 'Crew - Free Messaging and Scheduling', 'Cricbuzz - Live Cricket Scores & News', 'Crossy Road', 'Crunchyroll - Everything Anime', 'Curriculum vitae App CV Builder Free Resume Maker', 'Cut the Rope FULL FREE', 'Cymera Camera- Photo Editor, Filter,Collage,Layout', 'DC Comics', 'DC Super Hero Girls™', 'DEAD TARGET: FPS Zombie Apocalypse Survival Games', 'DEER HUNTER 2018', 'DINO HUNTER: DEADLY SHORES', 'DRAGON BALL LEGENDS', 'DU Browser—Browse fast & fun', 'Daily Manga - Comic & Webtoon', 'Daily Yoga - Yoga Fitness Plans', 'Dairy Queen', 'Dating App, Flirt & Chat : W-Match', 'Dating for 50 plus Mature Singles – FINALLY', 'Diabetes & Diet Tracker', 'Diabetes:M', 'Diary with lock', 'Dictionary - Merriam-Webster', 'Digit Save Money Automatically', 'Disney Magic Kingdoms: Build Your Own Magical Park', 'DisneyNOW – TV Shows & Games', 'Do It Later: Tasks & To-Dos', 'Docs To Go™ Free Office Suite', 'Dog Run - Pet Dog Simulator', \"Domino's Pizza USA\", \"Dr. Panda & Toto's Treehouse\", 'Dream League Soccer 2018', 'DreamWorks Friends', 'Dropbox', 'Dude Perfect 2', 'Dungeon Hunter Champions: Epic Online Action RPG', \"Dunkin' Donuts\", 'Duolingo: Learn Languages Free', 'E*TRADE Mobile', 'EMT PASS', 'EMT Review Plus', 'EMT Tutor NREMT-B Study Guide', 'EMT-B Pocket Prep', 'ES File Explorer File Manager', 'ESPN', 'ESPN Fantasy Sports', 'Earn to Die 2', 'Ebook Reader', 'Edmodo', 'EliteSingles – Dating for Single Professionals', 'Elmo Calls by Sesame Street', 'Endomondo - Running & Walking', 'English Dictionary - Offline', 'English Grammar Test', 'Episode - Choose Your Story', 'Equestria Girls', 'Essential Anatomy 3', 'Etsy: Handmade & Vintage Goods', 'Evernote – Organizer, Planner for Notes & Memos', 'Expedia Hotels, Flights & Car Rental Travel Deals', 'Extreme Coupon Finder', 'FIFA - Tournaments, Soccer News & Live Scores', 'FOX', 'FOX NOW - On Demand & Live TV', 'FOX Sports: Live Streaming, Scores & News', 'FP Notebook', 'Fabulous: Motivate Me! Meditate, Relax, Sleep', 'Face Filter, Selfie Editor - Sweet Camera', 'Facebook', 'Facebook Ads Manager', 'Facebook Lite', 'Facebook Pages Manager', 'Facetune - For Free', 'Fallout Shelter', 'Fancy', 'Fandango Movies - Times + Tickets', 'Fantasy Football', 'Farm Heroes Saga', 'FarmersOnly Dating', 'Farming Simulator 14', 'Fashion in Vogue', 'Fast Scanner : Free PDF Scan', 'FastMeet: Chat, Dating, Love', 'FilterGrid - Cam&Photo Editor', 'Final Fantasy XV: A New Empire', 'Find Real Love — YouLove Premium Dating', 'Firefox Browser fast & private', 'Firefox Focus: The privacy browser', 'Fishdom', 'Fitbit Coach', 'Flashlight', 'Flickr', 'Flipboard: News For Our Time', 'Flipkart Online Shopping App', 'Flipp - Weekly Shopping', 'FlirtChat - ♥Free Dating/Flirting App♥', 'Flow Free', 'Fly Delta', 'Food Calorie Calculator', 'Food Network', 'FotMob - Live Soccer Scores', 'Fox News – Breaking News, Live Video & News Alerts', 'Free Blood Pressure', 'Free Cam Girls - Live Webcam', 'Free Dating & Flirt Chat - Choice of Love', 'Free Dating App - Meet Local Singles - Flirt Chat', 'Free Dating App - YoCutie - Flirt, Chat & Meet', 'Free Dating Hook Up Messenger', 'Free phone calls, free texting SMS on free number', 'FreshBooks Classic', 'Frozen Free Fall', 'Fruits Bomb', 'Fun Kid Racing - Motocross', 'Fuzzy Numbers: Pre-K Number Foundation', 'G Cloud Backup', 'GO Keyboard - Emoticon keyboard, Free Theme, GIF', 'Galaxy Attack: Alien Shooter', \"Game for KIDS: KIDS match'em\", 'Gardenscapes', 'Garena Free Fire', 'Gay Sugar Daddy Dating & Hookup – Sudy Gay', 'Gboard - the Google Keyboard', 'Genius Scan - PDF Scanner', 'Geometry Dash World', 'Girls Live Chat - Free Text & Video Chat', 'Glide - Video Chat Messenger', 'Gmail', 'Golfshot: Golf GPS + Tee Times', 'Google', 'Google Ads', 'Google Allo', 'Google Analytics', 'Google Calendar', 'Google Chrome: Fast & Secure', 'Google Classroom', 'Google Docs', 'Google Drive', 'Google Duo - High Quality Video Calls', 'Google Earth', 'Google Keep', 'Google My Business', 'Google News', 'Google PDF Viewer', 'Google Pay', 'Google Photos', 'Google Play Games', 'Google Sheets', 'Google Street View', 'Google Translate', 'Google Voice', 'Google+', 'Granny', 'Groupon - Shop Deals, Discounts & Coupons', 'Grubhub: Food Delivery', 'Gyft - Mobile Gift Card Wallet', 'H TV', 'H&M', 'HBO GO: Stream with TV Package', 'HBO NOW: Stream TV & Movies', 'HD Camera for Android', 'HD Widgets', 'HISTORY: Watch TV Show Full Episodes & Specials', 'Hangouts', 'Hangouts Dialer - Call Phones', 'Harry Potter: Hogwarts Mystery', 'Haystack TV: Local & World News - Free', 'Headspace: Meditation & Mindfulness', 'Health and Nutrition Guide', 'Helix Jump', 'Hello Kitty Nail Salon', 'HelloTalk — Chat, Speak & Learn Foreign Languages', 'Hide App, Private Dating, Safe Chat - PrivacyHider', 'High Blood Pressure Symptoms', 'Hill Climb Racing', 'Hill Climb Racing 2', 'Hily: Dating, Chat, Match, Meet & Hook up', 'Hinge: Dating & Relationships', 'HipChat - Chat Built for Teams', 'Hole19: Golf GPS App, Rangefinder & Scorecard', 'Home Security Camera WardenCam - reuse old phones', 'Home Workout - No Equipment', 'Homescapes', 'Honkai Impact 3rd', 'Hopper - Watch & Book Flights', 'Hospitalist Handbook', 'Hostelworld: Hostels & Cheap Hotels Travel App', 'Hot Wheels: Race Off', 'Hot or Not - Find someone right now', 'HotelTonight: Book amazing deals at great hotels', 'Hotels.com: Book Hotel Rooms & Find Vacation Deals', 'Houzz Interior Design Ideas', 'Howlr', 'Hulu: Stream TV, Movies & more', 'Human Anatomy Atlas 2018: Complete 3D Human Body', 'Hungry Shark Evolution', 'Hungry Shark World', 'IBM Micromedex Drug Info', 'IMDb Movies & TV', 'Ibotta: Cash Back Savings, Rewards & Coupons App', 'Idle Heroes', 'Inside Out Thought Bubbles', 'Insightly CRM', 'InstaBeauty -Makeup Selfie Cam', 'InstaSize Photo Filters & Collage Editor', 'Instagram', 'Invoice & Time Tracking - Zoho', 'Invoice 2go — Professional Invoices and Estimates', 'I’m Expecting - Pregnancy App', 'JH Blood Pressure Monitor', 'JOANN - Crafts & Coupons', \"JackThreads: Men's Shopping\", 'Jaumo Dating, Flirt & Live Video', 'Jetpack Joyride', 'Jewels Star: OZ adventure', 'Journal Club: Medicine', 'Jurassic World™ Alive', 'Just She - Top Lesbian Dating', 'K PLUS', 'KAYAK Flights, Hotels & Cars', 'KakaoTalk: Free Calls & Text', 'Khan Academy', 'Kick the Buddy', 'Kids Balloon Pop Game Free 🎈', 'Knife Hit', 'LEGO® Juniors Create & Cruise', 'LEGO® TV', 'LINE Camera - Photo editor', 'LINE WEBTOON - Free Comics', 'LINE: Free Calls & Messages', 'LOVOO', 'Lark - 24/7 Health Coach', 'Last Day on Earth: Survival', 'Learn 50 languages', 'Learn C++', 'Learn English with Wlingua', 'Learn languages, grammar & vocabulary with Memrise', 'Lifetime - Watch Full Episodes & Original Movies', 'LinkedIn', 'Live Girls Talk - Free Video Chat', 'Live Talk - Free Text and Video Chat', 'LiveMe - Video chat, new friends, and make money', 'LivingSocial - Local Deals', 'Lose It! - Calorie Counter', 'Love Balls', 'Lumosity: #1 Brain Games & Cognitive Training App', 'Lynda - Online Training Videos', 'MARVEL Contest of Champions', 'MARVEL Strike Force', 'MEGA', 'MLB At Bat', 'MLB Ballpark', 'MTV', 'MX Player', 'Magic Tiles 3', 'MailChimp - Email, Marketing Automation', 'Manga AZ - Manga Comic Reader', 'Mango Languages: Lovable Language Courses', 'Maps & GPS Navigation — OsmAnd', 'Maps - Navigate & Explore', 'Mapy.cz - Cycling & Hiking offline maps', 'Maricopa AH', 'Masha and the Bear Child Games', \"McDonald's\", 'Mcqueen Coloring pages', 'MealLogger-Photo Food Journal', 'Medical ID - In Case of Emergency (ICE)', 'Meditation Music - Relax, Yoga', 'Meet24 - Love, Chat, Singles', 'Meet4U - Chat, Love, Singles!', 'MeetMe: Chat & Meet New People', 'Meetup', 'Merge Dragons!', 'Messages, Text and Video Chat for Messenger', 'Messenger Lite: Free Calls & Messages', 'Messenger – Text and Video Chat for Free', 'Metal Soldiers 2', 'Microsoft Edge', 'Microsoft Excel', 'Microsoft OneDrive', 'Microsoft OneNote', 'Microsoft Outlook', 'Microsoft PowerPoint', 'Microsoft Word', 'Millionaire Match: Rich Singles Dating App', 'Minecraft', 'Minion Rush: Despicable Me Official Game', 'Mint: Budget, Bills, Finance', 'Miraculous Ladybug & Cat Noir - The Official Game', 'Mobi Calculator free & AD free!', 'Mobile Doc Scanner (MDScan) Lite', 'Moco - Chat, Meet People', 'Moco+ - Chat, Meet People', \"Modcloth – Unique Indie Women's Fashion & Style\", 'Monash Uni Low FODMAP Diet', 'Money Lover: Expense Tracker, Budget Planner', 'Moneycontrol – Stocks, Sensex, Mutual Funds, IPO', 'Monster High™', 'Monster Truck Driver & Racing', 'MoodSpace', 'Moovit: Bus Time & Train Time Live Info', 'Mortgage by Zillow: Calculator & Rates', 'Moto File Manager', 'Motorola FM Radio', 'MouseMingle', 'Movies by Flixster, with Rotten Tomatoes', 'Muscle Premium - Human Anatomy, Kinesiology, Bones', 'Muzy - Share photos & collages', 'My Class Schedule: Timetable', 'My Diet Diary Calorie Counter', 'My Dressing - Fashion closet', 'My Little Pony Celebration', 'My Little Pony: Harmony Quest', 'My Photo Keyboard', 'My Talking Angela', 'My Talking Tom', 'MyPlate Calorie Tracker', 'NBC News', 'NFL', 'NOOK App for NOOK Devices', 'NOOK: Read eBooks & Magazines', 'NPR News', 'NYTimes - Latest News', 'Netflix', 'Newegg Mobile', 'Newsroom: News Worth Sharing', 'Nextdoor - Local neighborhood news & classifieds', 'Nick', 'Nighty Night Circus', 'Nike Training Club - Workouts & Fitness Plans', 'Nike+ Run Club', 'No Crop & Square for Instagram', 'No.Draw - Colors by Number 2018', 'Notepad & To do list', 'Nova Launcher', 'Nurse Grid', 'O-Star', 'OfficeSuite : Free Office + PDF Editor', 'Offline Maps & Navigation', 'OkCupid Dating', 'Once - Quality Matches Every day', 'Open Camera', 'Opera Browser: Fast and Secure', 'Opera Mini - fast web browser', 'Orbitz - Hotels, Flights & Package Deals', 'Overstock – Home Decor, Furniture Shopping', 'Ovia Fertility Tracker & Ovulation Calculator', 'Oxford Dictionary of English : Free', 'PAC-MAN', 'PBS KIDS Video', 'PGA TOUR', 'PJ Masks: Moonlight Heroes', 'PMHNP-BC Pocket Prep', 'POF Free Dating App', 'PTA Content Master', 'PUBG MOBILE', 'Panera Bread', 'Papumba Academy - Fun Learning For Kids', 'Paramedic Protocol Provider', 'PayPal', 'Peak – Brain Games & Training', 'Pedi STAT', 'Penn State Health OnDemand', 'Period Tracker', 'Periscope - Live Video', 'Phogy, 3D Camera', 'Phone Tracker : Family Locator', 'Photo Editor', 'Photo Editor Pro', 'Photo Editor Selfie Camera Filter & Mirror Image', 'Photo Editor by Aviary', 'Photo Editor-', 'PicsArt Photo Studio: Collage Maker & Pic Editor', 'Pinterest', 'Pixel Art: Color by Number Game', 'Planner Pro-Personal Organizer', 'Plants vs. Zombies FREE', 'Plants vs. Zombies™ Heroes', 'PlayKids - Educational cartoons and games for kids', 'Pocket Yoga', 'Podcast App: Free & Offline Podcasts by Player FM', 'Pokémon GO', 'Polaris Office - Word, Docs, Sheets, Slide, PDF', 'Poshmark - Buy & Sell Fashion', 'Postmates Food Delivery: Order Eats & Alcohol', 'Pou', 'PowerDirector Video Editor App: 4K, Slow Mo & More', 'Premier League - Official App', 'Priceline Hotel Deals, Rental Cars & Flights', 'Princess Coloring Book', 'Puffin Web Browser', 'QR Scanner & Barcode Scanner 2018', 'Quick PDF Scanner + OCR FREE', 'QuickBooks Accounting: Invoicing & Expenses', 'QuickPic - Photo Gallery with Google Drive Support', 'Quizlet: Learn Languages & Vocab with Flashcards', 'Quora', 'ROBLOX', 'RT 516 VET', 'RULES OF SURVIVAL', 'Racing in Car 2', 'Random Video Chat', 'Random Video Chat App With Strangers', 'Real Racing 3', 'Realtor.com Real Estate: Homes for Sale and Rent', 'Red Bull TV: Live Sports, Music & Entertainment', 'Redfin Real Estate', 'Relax Meditation: Sleep with Sleep Sounds', 'Relax Melodies: Sleep Sounds', 'RetailMeNot - Coupons, Deals & Discount Shopping', 'Reuters News', 'Rider', 'Ringtone Maker', 'Robinhood - Investing, No Fees', 'Rosetta Stone: Learn to Speak & Read New Languages', 'Ruler', 'Run Sausage Run!', 'Run with Map My Run', 'Runkeeper - GPS Track Run Walk', 'Runtastic Running App & Mile Tracker', 'Runtastic Sleep Better: Sleep Cycle & Smart Alarm', 'SHAREit - Transfer & Share', 'SHOWTIME', 'SKOUT - Meet, Chat, Go Live', 'SONIC Drive-In', 'STARZ', 'SUBWAY®', 'Sago Mini Babies', 'Sago Mini Friends', 'SayHi Chat, Meet New People', 'Scarf Fashion Designer', 'School of Dragons', 'Score! Hero', 'ScriptSave WellRx Rx Discounts', 'Seven - 7 Minute Workout Training Challenge', 'Shadow Fight 2', 'Share Music & Transfer Files - Xender', 'Shopkick: Free Gift Cards, Shop Rewards & Deals', 'Shopkins World!', 'Shopular: Coupons, Weekly Ads & Shopping Deals', 'Showtime Anytime', 'Shutterfly: Free Prints, Photo Books, Cards, Gifts', 'SignEasy | Sign and Fill PDF and other Documents', 'Simple - Better Banking', 'Simple Habit Meditation', 'Six Pack in 30 Days - Abs Workout', 'Skype - free IM & video calls', 'Skyscanner', 'Slack', 'Slickdeals: Coupons & Shopping', 'Smart Launcher 5', 'Snapchat', 'SnipSnap Coupon App', 'Sniper 3D Gun Shooter: Free Shooting Games - FPS', 'Socratic - Math Answers & Homework Help', 'Solitaire', 'Sonic Dash', 'Sounds for Toddlers FREE', 'Southwest Airlines', 'Spanish English Translator', 'Starbucks', 'Stocard - Rewards Cards Wallet', 'Strawberry Shortcake BerryRush', 'Strawberry Shortcake Ice Cream Island', 'StyleSeat', 'Subway Surfers', 'Sudy – Meet Elite & Rich Single', 'Super ABC! Learning games for kids! Preschool apps', 'Super Hearing Super Ear Amplifier', 'Super Jim Jump - pixel 3d', 'Swamp Attack', 'Sway Medical', 'TED', 'TO-FU Oh!SUSHI', 'Tagged - Meet, Chat & Dating', 'Talkatone: Free Texts, Calls & Phone Number', 'Talking Ben the Dog', 'Talking Tom Gold Run', 'Talkray - Free Calls & Texts', 'Tango - Live Video Broadcast', 'Tapatalk - 100,000+ Forums', 'Target - now with Cartwheel', 'Tee and Mo Bath Time Free', 'Teladoc Member', 'Telegram', 'Telegram X', 'Telemundo Now', 'Temple Run 2', 'Text Free: WiFi Calling App', 'Text free - Free Text + Call', 'TextNow - free text + calls', 'Textgram - write on photos', 'The 5th Stand', 'The CW', 'The Coupons App', 'The Emirates App', 'The Game of Life', 'The NBC App - Watch Live TV and Full Episodes', 'The Sims™ FreePlay', 'The Wall Street Journal: Business & Market News', 'Thomas & Friends: Race On!', 'TickTick: To Do List with Reminder, Day Planner', 'Tiny Scanner - PDF Scanner App', 'Tiny Scanner Pro: PDF Doc Scan', 'To-Do Calendar Planner', 'Toca Kitchen 2', 'Toca Life: City', 'Todoist: To-do lists for task management & errands', 'Toon Blast', 'Topbuzz: Breaking News, Videos & Funny GIFs', 'Toy Blast', 'Traffic Racer', 'Transenger – Ts Dating and Chat for Free', 'Transit: Real-Time Transit App', 'TripAdvisor Hotels Flights Restaurants Attractions', 'Truecaller: Caller ID, SMS spam blocking & Dialer', 'Trulia Real Estate & Rentals', 'Trulia Rent Apartments & Homes', 'Tubi TV - Free Movies & TV', 'Tumblr', 'Turbo FAST', 'TurboScan: scan documents and receipts in PDF', 'Twitch: Livestream Multiplayer Games & Esports', 'Twitter', 'UC Browser - Fast Download Private & Secure', 'UC Browser Mini -Tiny Fast Private & Secure', 'UFC', 'UNICORN - Color By Number & Pixel Art Coloring', 'US Open Tennis Championships 2018', 'USA TODAY', 'Uber', 'Udacity - Lifelong Learning', 'Udemy - Online Courses', 'United Airlines', 'Univision NOW - Live TV and On Demand', 'VH1', 'VLC for Android', 'VPN Free - Betternet Hotspot VPN & Private Browser', 'Vaniday - Beauty Booking App', 'Vargo Anesthesia Mega App', 'Viber Messenger', 'Video Downloader', 'Video Editor', 'Video Player All Format', 'Vigo Video', 'Viki: Asian TV Dramas & Movies', 'WPS Office - Word, Docs, PDF, Note, Slide & Sheet', 'WWE', 'Walk with Map My Walk', 'Walmart', 'Wanelo Shopping', 'WatchESPN', 'Wattpad 📖 Free Books', 'Waze - GPS, Maps, Traffic Alerts & Live Navigation', 'We Heart It', 'WeChat', 'Weather by eltiempo.es', 'Web Browser for Android', 'Weight Loss Running by Verv', 'Weight Loss Tracker - RecStyle', 'Weight Watchers Mobile', 'Wells Fargo Daily Change', 'Wells Fargo Mobile', 'Wendy’s – Food and Offers', 'WhatsApp Business', 'WhatsApp Messenger', 'Wheretoget: Shop in style', 'Who', 'Who Viewed My Facebook Profile - Stalkers Visitors', 'Whoscall - Caller ID & Block', 'Wish - Shopping Made Fun', 'Word Search', 'Wordscapes', 'Workout Trainer: fitness coach', 'Wunderlist: To-Do List & Tasks', 'Xero Accounting Software', 'Yahoo Fantasy Sports - #1 Rated Fantasy App', 'Yahoo Mail – Stay Organized', 'Yahoo Sports - scores, stats, news, & highlights', 'Yandex Browser with Protect', 'YouCam Makeup - Magic Selfie Makeovers', 'YouCam Perfect - Selfie Photo Editor', 'YouTube', 'YouTube Gaming', 'YouTube Kids', 'YouTube Studio', 'Youper - AI Therapy', 'Z Camera - Photo Editor, Beauty Selfie, Collage', 'ZALORA Fashion Shopping', 'ZEDGE™ Ringtones & Wallpapers', 'ZOOM Cloud Meetings', 'Zappos – Shoe shopping made simple', 'Zara', 'Zello PTT Walkie Talkie', 'Zenefits', 'Zillow: Find Houses for Sale & Apartments for Rent', 'Zomato - Restaurant Finder and Food Delivery App', 'Zombie Catchers', 'Zombie Hunter King', 'Zombie Tsunami', 'Zoosk Dating App: Meet Singles', 'ai.type Free Emoji Keyboard', 'busuu: Learn Languages - Spanish, English & More', 'eBay: Buy & Sell this Summer - Discover Deals Now!', 'edX - Online Courses by Harvard, MIT & more', \"fred's Pharmacy\", 'free video calls and chat', 'iBP Blood Pressure', 'iPair-Meet, Chat, Dating', 'imo beta free calls and text', 'imo free video calls and chat', 'join.me - Simple Meetings', 'letgo: Buy & Sell Used Stuff, Cars & Real Estate', 'muzmatch: Muslim & Arab Singles, Marriage & Dating', 'myAT&T', 'mySugr: the blood sugar tracker made just for you', 'ooVoo Video Calls, Messaging & Stories', 'osmino Wi-Fi: free WiFi', 'realestate.com.au - Buy, Rent & Sell Property', 'slither.io', 'stranger chat - anonymous chat', 'textPlus: Free Text & Calls', 'theScore: Live Sports Scores, News, Stats & Videos', 'trivago: Hotels & Travel', 'wetter.com - Weather and Radar']\n",
      "Number of duplicate applications: 798\n"
     ]
    }
   ],
   "source": [
    "duplicates_app = df[df.duplicated(['App'], keep=False)]\n",
    "\n",
    "# Get the names of all duplicate applications and sort them alphabetically\n",
    "duplicate_app_names = sorted(duplicates_app['App'].unique())\n",
    "\n",
    "# Display the names of the duplicate applications\n",
    "print(\"Duplicate applications sorted alphabetically:\", duplicate_app_names)\n",
    "print(\"Number of duplicate applications:\", len(duplicate_app_names))"
   ]
  },
  {
   "cell_type": "code",
   "execution_count": 10,
   "id": "b91157da",
   "metadata": {},
   "outputs": [],
   "source": [
    "# Sorts the DataFrame by the number of reviews in descending order\n",
    "# drops duplicate rows based on the application name ('App'),\n",
    "# keeping only the first occurrence of each application with the highest number of reviews.\n",
    "df = df.sort_values(by='Reviews', ascending=False).drop_duplicates(subset='App')"
   ]
  },
  {
   "cell_type": "code",
   "execution_count": 11,
   "id": "0755d397",
   "metadata": {},
   "outputs": [
    {
     "name": "stdout",
     "output_type": "stream",
     "text": [
      "<class 'pandas.core.frame.DataFrame'>\n",
      "Int64Index: 9660 entries, 2989 to 4177\n",
      "Data columns (total 13 columns):\n",
      " #   Column          Non-Null Count  Dtype  \n",
      "---  ------          --------------  -----  \n",
      " 0   App             9660 non-null   object \n",
      " 1   Category        9660 non-null   object \n",
      " 2   Rating          8197 non-null   float64\n",
      " 3   Reviews         9660 non-null   object \n",
      " 4   Size            9660 non-null   object \n",
      " 5   Installs        9660 non-null   object \n",
      " 6   Type            9659 non-null   object \n",
      " 7   Price           9660 non-null   object \n",
      " 8   Content Rating  9659 non-null   object \n",
      " 9   Genres          9660 non-null   object \n",
      " 10  Last Updated    9660 non-null   object \n",
      " 11  Current Ver     9652 non-null   object \n",
      " 12  Android Ver     9657 non-null   object \n",
      "dtypes: float64(1), object(12)\n",
      "memory usage: 1.0+ MB\n"
     ]
    }
   ],
   "source": [
    "df.info()"
   ]
  },
  {
   "cell_type": "code",
   "execution_count": 12,
   "id": "31318b38",
   "metadata": {},
   "outputs": [
    {
     "data": {
      "text/plain": [
       "0"
      ]
     },
     "execution_count": 12,
     "metadata": {},
     "output_type": "execute_result"
    }
   ],
   "source": [
    "df.duplicated().sum()"
   ]
  },
  {
   "cell_type": "markdown",
   "id": "0901e51d",
   "metadata": {},
   "source": [
    "## Exploring null values"
   ]
  },
  {
   "cell_type": "code",
   "execution_count": 13,
   "id": "e64ed904",
   "metadata": {},
   "outputs": [
    {
     "data": {
      "text/plain": [
       "Rating            1463\n",
       "Current Ver          8\n",
       "Android Ver          3\n",
       "Type                 1\n",
       "Content Rating       1\n",
       "App                  0\n",
       "Category             0\n",
       "Reviews              0\n",
       "Size                 0\n",
       "Installs             0\n",
       "Price                0\n",
       "Genres               0\n",
       "Last Updated         0\n",
       "dtype: int64"
      ]
     },
     "execution_count": 13,
     "metadata": {},
     "output_type": "execute_result"
    }
   ],
   "source": [
    "df.isnull().sum().sort_values(ascending=False)"
   ]
  },
  {
   "cell_type": "code",
   "execution_count": 14,
   "id": "3fc0f5d1",
   "metadata": {},
   "outputs": [
    {
     "data": {
      "text/plain": [
       "Rating            15.144928\n",
       "Current Ver        0.082816\n",
       "Android Ver        0.031056\n",
       "Type               0.010352\n",
       "Content Rating     0.010352\n",
       "App                0.000000\n",
       "Category           0.000000\n",
       "Reviews            0.000000\n",
       "Size               0.000000\n",
       "Installs           0.000000\n",
       "Price              0.000000\n",
       "Genres             0.000000\n",
       "Last Updated       0.000000\n",
       "dtype: float64"
      ]
     },
     "execution_count": 14,
     "metadata": {},
     "output_type": "execute_result"
    }
   ],
   "source": [
    "(df.isnull().sum() * 100 / len(df)).sort_values(ascending=False)"
   ]
  },
  {
   "cell_type": "code",
   "execution_count": 15,
   "id": "5466f693",
   "metadata": {},
   "outputs": [],
   "source": [
    "df = df.dropna(subset=['Rating'])"
   ]
  },
  {
   "cell_type": "code",
   "execution_count": 16,
   "id": "321d2b9d",
   "metadata": {},
   "outputs": [
    {
     "data": {
      "text/plain": [
       "array([ 4.2,  3.3,  4. ,  4.7,  4.3,  3.7,  4.6,  4.5,  4.4,  3.9,  4.1,\n",
       "        2.4,  3.6,  2.9,  4.8,  2.8,  3.5,  1.9,  3.8,  3. ,  3.2,  4.9,\n",
       "        2.6,  3.4,  2.7,  5. ,  2.3,  2. ,  2.2,  2.1,  2.5,  3.1,  1.7,\n",
       "        1.6,  1.5,  1.8,  1. ,  1.4,  1.2, 19. ])"
      ]
     },
     "execution_count": 16,
     "metadata": {},
     "output_type": "execute_result"
    }
   ],
   "source": [
    "df['Rating'].unique()"
   ]
  },
  {
   "cell_type": "code",
   "execution_count": 17,
   "id": "19b67490",
   "metadata": {},
   "outputs": [
    {
     "data": {
      "text/plain": [
       "4.4     897\n",
       "4.3     897\n",
       "4.5     849\n",
       "4.2     811\n",
       "4.6     683\n",
       "4.1     621\n",
       "4.0     513\n",
       "4.7     438\n",
       "3.9     359\n",
       "3.8     286\n",
       "5.0     271\n",
       "3.7     224\n",
       "4.8     221\n",
       "3.6     167\n",
       "3.5     156\n",
       "3.4     126\n",
       "3.3     100\n",
       "4.9      85\n",
       "3.0      81\n",
       "3.1      69\n",
       "3.2      63\n",
       "2.9      45\n",
       "2.8      40\n",
       "2.6      24\n",
       "2.7      23\n",
       "2.5      20\n",
       "2.3      20\n",
       "2.4      19\n",
       "1.0      16\n",
       "2.2      14\n",
       "2.0      12\n",
       "1.9      11\n",
       "1.7       8\n",
       "1.8       8\n",
       "2.1       8\n",
       "1.6       4\n",
       "1.5       3\n",
       "1.4       3\n",
       "1.2       1\n",
       "19.0      1\n",
       "Name: Rating, dtype: int64"
      ]
     },
     "execution_count": 17,
     "metadata": {},
     "output_type": "execute_result"
    }
   ],
   "source": [
    "df['Rating'].value_counts(dropna=False).sort_values(ascending=False)"
   ]
  },
  {
   "cell_type": "code",
   "execution_count": 18,
   "id": "274ec23a",
   "metadata": {},
   "outputs": [],
   "source": [
    "#Changing the error in the 19 rating\n",
    "df['Rating'].replace(19.0, 1.9, inplace=True)"
   ]
  },
  {
   "cell_type": "code",
   "execution_count": 19,
   "id": "476695c7",
   "metadata": {},
   "outputs": [
    {
     "data": {
      "text/plain": [
       "4.4    897\n",
       "4.3    897\n",
       "4.5    849\n",
       "4.2    811\n",
       "4.6    683\n",
       "4.1    621\n",
       "4.0    513\n",
       "4.7    438\n",
       "3.9    359\n",
       "3.8    286\n",
       "5.0    271\n",
       "3.7    224\n",
       "4.8    221\n",
       "3.6    167\n",
       "3.5    156\n",
       "3.4    126\n",
       "3.3    100\n",
       "4.9     85\n",
       "3.0     81\n",
       "3.1     69\n",
       "3.2     63\n",
       "2.9     45\n",
       "2.8     40\n",
       "2.6     24\n",
       "2.7     23\n",
       "2.3     20\n",
       "2.5     20\n",
       "2.4     19\n",
       "1.0     16\n",
       "2.2     14\n",
       "1.9     12\n",
       "2.0     12\n",
       "1.8      8\n",
       "2.1      8\n",
       "1.7      8\n",
       "1.6      4\n",
       "1.5      3\n",
       "1.4      3\n",
       "1.2      1\n",
       "Name: Rating, dtype: int64"
      ]
     },
     "execution_count": 19,
     "metadata": {},
     "output_type": "execute_result"
    }
   ],
   "source": [
    "df['Rating'].value_counts(dropna=False).sort_values(ascending=False)"
   ]
  },
  {
   "cell_type": "code",
   "execution_count": 20,
   "id": "5e79f75c",
   "metadata": {},
   "outputs": [
    {
     "data": {
      "text/plain": [
       "5.0    271\n",
       "4.9     85\n",
       "4.8    221\n",
       "4.7    438\n",
       "4.6    683\n",
       "4.5    849\n",
       "4.4    897\n",
       "4.3    897\n",
       "4.2    811\n",
       "4.1    621\n",
       "4.0    513\n",
       "3.9    359\n",
       "3.8    286\n",
       "3.7    224\n",
       "3.6    167\n",
       "3.5    156\n",
       "3.4    126\n",
       "3.3    100\n",
       "3.2     63\n",
       "3.1     69\n",
       "3.0     81\n",
       "2.9     45\n",
       "2.8     40\n",
       "2.7     23\n",
       "2.6     24\n",
       "2.5     20\n",
       "2.4     19\n",
       "2.3     20\n",
       "2.2     14\n",
       "2.1      8\n",
       "2.0     12\n",
       "1.9     12\n",
       "1.8      8\n",
       "1.7      8\n",
       "1.6      4\n",
       "1.5      3\n",
       "1.4      3\n",
       "1.2      1\n",
       "1.0     16\n",
       "Name: Rating, dtype: int64"
      ]
     },
     "execution_count": 20,
     "metadata": {},
     "output_type": "execute_result"
    }
   ],
   "source": [
    "df['Rating'].value_counts(dropna=False).sort_index(ascending=False)"
   ]
  },
  {
   "cell_type": "markdown",
   "id": "e4739df5",
   "metadata": {},
   "source": [
    "## Exploring other mistakes in data"
   ]
  },
  {
   "cell_type": "markdown",
   "id": "94c0c010",
   "metadata": {},
   "source": [
    "Please note that I observed inaccuracies in the data layout of the Life Made Wi-Fi Touchscreen Photo Frame application. Consequently, I've opted to adjust this information for accuracy."
   ]
  },
  {
   "cell_type": "code",
   "execution_count": 21,
   "id": "dfcfc89b",
   "metadata": {},
   "outputs": [],
   "source": [
    "df.loc[df['App'] == 'Life Made WI-Fi Touchscreen Photo Frame', 'Category'] = 'No Category'\n",
    "df.loc[df['App'] == 'Life Made WI-Fi Touchscreen Photo Frame', 'Rating'] = 1.9\n",
    "df.loc[df['App'] == 'Life Made WI-Fi Touchscreen Photo Frame', 'Reviews'] = 19\n",
    "df.loc[df['App'] == 'Life Made WI-Fi Touchscreen Photo Frame', 'Size'] = '3.0M'\n",
    "df.loc[df['App'] == 'Life Made WI-Fi Touchscreen Photo Frame', 'Installs'] = '1,000+'\n",
    "df.loc[df['App'] == 'Life Made WI-Fi Touchscreen Photo Frame', 'Type'] = 'Free'\n",
    "df.loc[df['App'] == 'Life Made WI-Fi Touchscreen Photo Frame', 'Price'] = 0\n",
    "df.loc[df['App'] == 'Life Made WI-Fi Touchscreen Photo Frame', 'Content Rating'] = 'Everyone'\n",
    "df.loc[df['App'] == 'Life Made WI-Fi Touchscreen Photo Frame', 'Genres'] = ''\n",
    "df.loc[df['App'] == 'Life Made WI-Fi Touchscreen Photo Frame', 'Last Updated'] = 'February 11, 2018'\n",
    "df.loc[df['App'] == 'Life Made WI-Fi Touchscreen Photo Frame', 'Current Ver'] = '1.0.19'\n",
    "df.loc[df['App'] == 'Life Made WI-Fi Touchscreen Photo Frame', 'Android Ver'] = '4.0 and up'"
   ]
  },
  {
   "cell_type": "code",
   "execution_count": 22,
   "id": "13f3fef0",
   "metadata": {},
   "outputs": [
    {
     "name": "stdout",
     "output_type": "stream",
     "text": [
      "<class 'pandas.core.frame.DataFrame'>\n",
      "Int64Index: 8197 entries, 2989 to 2482\n",
      "Data columns (total 13 columns):\n",
      " #   Column          Non-Null Count  Dtype  \n",
      "---  ------          --------------  -----  \n",
      " 0   App             8197 non-null   object \n",
      " 1   Category        8197 non-null   object \n",
      " 2   Rating          8197 non-null   float64\n",
      " 3   Reviews         8197 non-null   object \n",
      " 4   Size            8197 non-null   object \n",
      " 5   Installs        8197 non-null   object \n",
      " 6   Type            8197 non-null   object \n",
      " 7   Price           8197 non-null   object \n",
      " 8   Content Rating  8197 non-null   object \n",
      " 9   Genres          8197 non-null   object \n",
      " 10  Last Updated    8197 non-null   object \n",
      " 11  Current Ver     8193 non-null   object \n",
      " 12  Android Ver     8195 non-null   object \n",
      "dtypes: float64(1), object(12)\n",
      "memory usage: 896.5+ KB\n"
     ]
    }
   ],
   "source": [
    "df.info()"
   ]
  },
  {
   "cell_type": "markdown",
   "id": "a623ab91",
   "metadata": {},
   "source": [
    "After that I prefer to drop that line"
   ]
  },
  {
   "cell_type": "code",
   "execution_count": 23,
   "id": "a6a99aa1",
   "metadata": {},
   "outputs": [],
   "source": [
    "df = df[df['App'] != 'Life Made WI-Fi Touchscreen Photo Frame']"
   ]
  },
  {
   "cell_type": "code",
   "execution_count": 24,
   "id": "824dca60",
   "metadata": {},
   "outputs": [
    {
     "name": "stdout",
     "output_type": "stream",
     "text": [
      "<class 'pandas.core.frame.DataFrame'>\n",
      "Int64Index: 8196 entries, 2989 to 2482\n",
      "Data columns (total 13 columns):\n",
      " #   Column          Non-Null Count  Dtype  \n",
      "---  ------          --------------  -----  \n",
      " 0   App             8196 non-null   object \n",
      " 1   Category        8196 non-null   object \n",
      " 2   Rating          8196 non-null   float64\n",
      " 3   Reviews         8196 non-null   object \n",
      " 4   Size            8196 non-null   object \n",
      " 5   Installs        8196 non-null   object \n",
      " 6   Type            8196 non-null   object \n",
      " 7   Price           8196 non-null   object \n",
      " 8   Content Rating  8196 non-null   object \n",
      " 9   Genres          8196 non-null   object \n",
      " 10  Last Updated    8196 non-null   object \n",
      " 11  Current Ver     8192 non-null   object \n",
      " 12  Android Ver     8194 non-null   object \n",
      "dtypes: float64(1), object(12)\n",
      "memory usage: 896.4+ KB\n"
     ]
    }
   ],
   "source": [
    "df.info()"
   ]
  },
  {
   "cell_type": "code",
   "execution_count": 25,
   "id": "255f4235",
   "metadata": {},
   "outputs": [
    {
     "data": {
      "text/plain": [
       "8196"
      ]
     },
     "execution_count": 25,
     "metadata": {},
     "output_type": "execute_result"
    }
   ],
   "source": [
    "df['App'].nunique()"
   ]
  },
  {
   "cell_type": "code",
   "execution_count": 26,
   "id": "d76a2689",
   "metadata": {},
   "outputs": [
    {
     "data": {
      "text/plain": [
       "array(['SPORTS', 'TOOLS', 'SHOPPING', 'TRAVEL_AND_LOCAL', 'FAMILY',\n",
       "       'VIDEO_PLAYERS', 'COMMUNICATION', 'COMICS', 'GAME', 'MEDICAL',\n",
       "       'ENTERTAINMENT', 'AUTO_AND_VEHICLES', 'PRODUCTIVITY', 'EDUCATION',\n",
       "       'EVENTS', 'PARENTING', 'PHOTOGRAPHY', 'LIFESTYLE', 'BUSINESS',\n",
       "       'WEATHER', 'BOOKS_AND_REFERENCE', 'PERSONALIZATION',\n",
       "       'HEALTH_AND_FITNESS', 'NEWS_AND_MAGAZINES', 'DATING', 'FINANCE',\n",
       "       'ART_AND_DESIGN', 'BEAUTY', 'SOCIAL', 'MAPS_AND_NAVIGATION',\n",
       "       'LIBRARIES_AND_DEMO', 'FOOD_AND_DRINK', 'HOUSE_AND_HOME'],\n",
       "      dtype=object)"
      ]
     },
     "execution_count": 26,
     "metadata": {},
     "output_type": "execute_result"
    }
   ],
   "source": [
    "df['Category'].unique()"
   ]
  },
  {
   "cell_type": "code",
   "execution_count": 27,
   "id": "061b0975",
   "metadata": {},
   "outputs": [
    {
     "data": {
      "text/plain": [
       "33"
      ]
     },
     "execution_count": 27,
     "metadata": {},
     "output_type": "execute_result"
    }
   ],
   "source": [
    "df['Category'].nunique()"
   ]
  },
  {
   "cell_type": "code",
   "execution_count": 28,
   "id": "5797f01d",
   "metadata": {},
   "outputs": [
    {
     "data": {
      "text/plain": [
       "FAMILY                 1654\n",
       "GAME                    895\n",
       "TOOLS                   719\n",
       "FINANCE                 302\n",
       "PRODUCTIVITY            301\n",
       "LIFESTYLE               301\n",
       "PERSONALIZATION         298\n",
       "MEDICAL                 290\n",
       "PHOTOGRAPHY             263\n",
       "BUSINESS                263\n",
       "SPORTS                  260\n",
       "COMMUNICATION           256\n",
       "HEALTH_AND_FITNESS      244\n",
       "NEWS_AND_MAGAZINES      204\n",
       "SOCIAL                  203\n",
       "TRAVEL_AND_LOCAL        187\n",
       "SHOPPING                180\n",
       "BOOKS_AND_REFERENCE     169\n",
       "VIDEO_PLAYERS           149\n",
       "DATING                  134\n",
       "MAPS_AND_NAVIGATION     118\n",
       "EDUCATION               105\n",
       "FOOD_AND_DRINK           94\n",
       "ENTERTAINMENT            87\n",
       "AUTO_AND_VEHICLES        73\n",
       "WEATHER                  72\n",
       "LIBRARIES_AND_DEMO       64\n",
       "HOUSE_AND_HOME           61\n",
       "ART_AND_DESIGN           59\n",
       "COMICS                   54\n",
       "PARENTING                50\n",
       "EVENTS                   45\n",
       "BEAUTY                   42\n",
       "Name: Category, dtype: int64"
      ]
     },
     "execution_count": 28,
     "metadata": {},
     "output_type": "execute_result"
    }
   ],
   "source": [
    "df['Category'].value_counts(dropna=False)"
   ]
  },
  {
   "cell_type": "code",
   "execution_count": 29,
   "id": "22c62f3b",
   "metadata": {},
   "outputs": [
    {
     "data": {
      "text/plain": [
       "array(['9992', '999', '9975', ..., '100', '10', '1'], dtype=object)"
      ]
     },
     "execution_count": 29,
     "metadata": {},
     "output_type": "execute_result"
    }
   ],
   "source": [
    "df['Reviews'].unique()"
   ]
  },
  {
   "cell_type": "code",
   "execution_count": 30,
   "id": "a828e7a6",
   "metadata": {},
   "outputs": [
    {
     "data": {
      "text/plain": [
       "5321"
      ]
     },
     "execution_count": 30,
     "metadata": {},
     "output_type": "execute_result"
    }
   ],
   "source": [
    "df['Reviews'].nunique()"
   ]
  },
  {
   "cell_type": "code",
   "execution_count": 31,
   "id": "7b768710",
   "metadata": {},
   "outputs": [
    {
     "data": {
      "text/plain": [
       "2         82\n",
       "3         76\n",
       "4         74\n",
       "5         74\n",
       "1         67\n",
       "          ..\n",
       "435        1\n",
       "4354       1\n",
       "4355       1\n",
       "43611      1\n",
       "318142     1\n",
       "Name: Reviews, Length: 5321, dtype: int64"
      ]
     },
     "execution_count": 31,
     "metadata": {},
     "output_type": "execute_result"
    }
   ],
   "source": [
    "df['Reviews'].value_counts(dropna=False)"
   ]
  },
  {
   "cell_type": "code",
   "execution_count": 32,
   "id": "33d999e0",
   "metadata": {},
   "outputs": [
    {
     "data": {
      "text/plain": [
       "array(['1,000,000+', '100,000+', '500,000+', '50,000+', '10,000,000+',\n",
       "       '5,000,000+', '10,000+', '50,000,000+', '100,000,000+', '5,000+',\n",
       "       '1,000+', '1,000,000,000+', '500+', '100+', '10+', '50+',\n",
       "       '500,000,000+', '5+', '1+'], dtype=object)"
      ]
     },
     "execution_count": 32,
     "metadata": {},
     "output_type": "execute_result"
    }
   ],
   "source": [
    "df['Installs'].unique()"
   ]
  },
  {
   "cell_type": "code",
   "execution_count": 33,
   "id": "a0936f7d",
   "metadata": {},
   "outputs": [
    {
     "data": {
      "text/plain": [
       "19"
      ]
     },
     "execution_count": 33,
     "metadata": {},
     "output_type": "execute_result"
    }
   ],
   "source": [
    "df['Installs'].nunique()"
   ]
  },
  {
   "cell_type": "code",
   "execution_count": 34,
   "id": "0fbc3846",
   "metadata": {},
   "outputs": [
    {
     "data": {
      "text/plain": [
       "1,000,000+        1416\n",
       "100,000+          1095\n",
       "10,000+            986\n",
       "10,000,000+        934\n",
       "1,000+             697\n",
       "5,000,000+         608\n",
       "500,000+           504\n",
       "50,000+            457\n",
       "5,000+             425\n",
       "100+               303\n",
       "50,000,000+        203\n",
       "500+               199\n",
       "100,000,000+       188\n",
       "10+                 69\n",
       "50+                 56\n",
       "500,000,000+        24\n",
       "1,000,000,000+      20\n",
       "5+                   9\n",
       "1+                   3\n",
       "Name: Installs, dtype: int64"
      ]
     },
     "execution_count": 34,
     "metadata": {},
     "output_type": "execute_result"
    }
   ],
   "source": [
    "df['Installs'].value_counts(dropna=False)"
   ]
  },
  {
   "cell_type": "code",
   "execution_count": 35,
   "id": "931bcc78",
   "metadata": {},
   "outputs": [
    {
     "data": {
      "text/plain": [
       "array(['Free', 'Paid'], dtype=object)"
      ]
     },
     "execution_count": 35,
     "metadata": {},
     "output_type": "execute_result"
    }
   ],
   "source": [
    "df['Type'].unique()"
   ]
  },
  {
   "cell_type": "code",
   "execution_count": 36,
   "id": "ebea7032",
   "metadata": {},
   "outputs": [
    {
     "data": {
      "text/plain": [
       "2"
      ]
     },
     "execution_count": 36,
     "metadata": {},
     "output_type": "execute_result"
    }
   ],
   "source": [
    "df['Type'].nunique()"
   ]
  },
  {
   "cell_type": "code",
   "execution_count": 37,
   "id": "5c16669e",
   "metadata": {},
   "outputs": [
    {
     "data": {
      "text/plain": [
       "Free    7592\n",
       "Paid     604\n",
       "Name: Type, dtype: int64"
      ]
     },
     "execution_count": 37,
     "metadata": {},
     "output_type": "execute_result"
    }
   ],
   "source": [
    "df['Type'].value_counts(dropna=False)"
   ]
  },
  {
   "cell_type": "code",
   "execution_count": 38,
   "id": "ef83084b",
   "metadata": {},
   "outputs": [
    {
     "data": {
      "text/plain": [
       "array(['Everyone', 'Teen', 'Everyone 10+', 'Mature 17+',\n",
       "       'Adults only 18+', 'Unrated'], dtype=object)"
      ]
     },
     "execution_count": 38,
     "metadata": {},
     "output_type": "execute_result"
    }
   ],
   "source": [
    "df['Content Rating'].unique()"
   ]
  },
  {
   "cell_type": "code",
   "execution_count": 39,
   "id": "f072929b",
   "metadata": {},
   "outputs": [
    {
     "data": {
      "text/plain": [
       "6"
      ]
     },
     "execution_count": 39,
     "metadata": {},
     "output_type": "execute_result"
    }
   ],
   "source": [
    "df['Content Rating'].nunique()"
   ]
  },
  {
   "cell_type": "code",
   "execution_count": 40,
   "id": "91b1c16e",
   "metadata": {},
   "outputs": [
    {
     "data": {
      "text/plain": [
       "Everyone           6618\n",
       "Teen                912\n",
       "Mature 17+          357\n",
       "Everyone 10+        305\n",
       "Adults only 18+       3\n",
       "Unrated               1\n",
       "Name: Content Rating, dtype: int64"
      ]
     },
     "execution_count": 40,
     "metadata": {},
     "output_type": "execute_result"
    }
   ],
   "source": [
    "df['Content Rating'].value_counts(dropna=False)"
   ]
  },
  {
   "cell_type": "code",
   "execution_count": 41,
   "id": "c6aad624",
   "metadata": {},
   "outputs": [
    {
     "data": {
      "text/plain": [
       "array(['Sports', 'Tools', 'Shopping', 'Travel & Local', 'Entertainment',\n",
       "       'Video Players & Editors', 'Communication', 'Comics', 'Arcade',\n",
       "       'Adventure', 'Medical', 'Auto & Vehicles', 'Productivity',\n",
       "       'Action', 'Education', 'Strategy', 'Events', 'Parenting', 'Casual',\n",
       "       'Photography', 'Lifestyle', 'Health & Fitness;Education',\n",
       "       'Entertainment;Brain Games', 'Business', 'Simulation', 'Weather',\n",
       "       'Books & Reference', 'Personalization', 'Health & Fitness',\n",
       "       'News & Magazines', 'Education;Creativity', 'Dating',\n",
       "       'Art & Design;Pretend Play', 'Board', 'Board;Brain Games',\n",
       "       'Puzzle', 'Educational;Action & Adventure', 'Finance',\n",
       "       'Art & Design;Creativity', 'Role Playing', 'Educational;Education',\n",
       "       'Beauty', 'Action;Action & Adventure', 'Social',\n",
       "       'Maps & Navigation', 'Educational;Creativity', 'Racing',\n",
       "       'Educational', 'Trivia', 'Libraries & Demo',\n",
       "       'Card;Action & Adventure', 'Puzzle;Brain Games', 'Food & Drink',\n",
       "       'Card', 'Casual;Education', 'Entertainment;Creativity',\n",
       "       'Entertainment;Music & Video', 'Travel & Local;Action & Adventure',\n",
       "       'Education;Education', 'Art & Design', 'Music', 'House & Home',\n",
       "       'Casual;Action & Adventure', 'Casino', 'Casual;Pretend Play',\n",
       "       'Arcade;Action & Adventure', 'Puzzle;Education',\n",
       "       'Education;Pretend Play', 'Racing;Action & Adventure', 'Word',\n",
       "       'Education;Action & Adventure', 'Education;Music & Video',\n",
       "       'Entertainment;Education', 'Adventure;Brain Games',\n",
       "       'Puzzle;Creativity', 'Educational;Pretend Play',\n",
       "       'Board;Action & Adventure', 'Card;Brain Games',\n",
       "       'Casual;Creativity', 'Educational;Brain Games',\n",
       "       'Simulation;Pretend Play', 'Casual;Brain Games',\n",
       "       'Entertainment;Pretend Play', 'Education;Brain Games',\n",
       "       'Sports;Action & Adventure', 'Simulation;Action & Adventure',\n",
       "       'Role Playing;Action & Adventure', 'Comics;Creativity',\n",
       "       'Parenting;Education', 'Adventure;Action & Adventure',\n",
       "       'Music;Music & Video', 'Role Playing;Pretend Play',\n",
       "       'Books & Reference;Education', 'Board;Pretend Play',\n",
       "       'Video Players & Editors;Music & Video', 'Parenting;Music & Video',\n",
       "       'Casual;Music & Video', 'Parenting;Brain Games',\n",
       "       'Entertainment;Action & Adventure', 'Communication;Creativity',\n",
       "       'Tools;Education', 'Simulation;Education', 'Lifestyle;Education',\n",
       "       'Health & Fitness;Action & Adventure', 'Adventure;Education',\n",
       "       'Puzzle;Action & Adventure', 'Arcade;Pretend Play',\n",
       "       'Racing;Pretend Play', 'Strategy;Education',\n",
       "       'Strategy;Action & Adventure',\n",
       "       'Video Players & Editors;Creativity', 'Role Playing;Brain Games',\n",
       "       'Lifestyle;Pretend Play', 'Music & Audio;Music & Video',\n",
       "       'Strategy;Creativity'], dtype=object)"
      ]
     },
     "execution_count": 41,
     "metadata": {},
     "output_type": "execute_result"
    }
   ],
   "source": [
    "df['Genres'].unique()"
   ]
  },
  {
   "cell_type": "code",
   "execution_count": 42,
   "id": "fe6d1bed",
   "metadata": {},
   "outputs": [
    {
     "data": {
      "text/plain": [
       "115"
      ]
     },
     "execution_count": 42,
     "metadata": {},
     "output_type": "execute_result"
    }
   ],
   "source": [
    "df['Genres'].nunique()"
   ]
  },
  {
   "cell_type": "code",
   "execution_count": 43,
   "id": "c8a71a74",
   "metadata": {},
   "outputs": [
    {
     "data": {
      "text/plain": [
       "Tools                         718\n",
       "Entertainment                 471\n",
       "Education                     429\n",
       "Finance                       302\n",
       "Productivity                  301\n",
       "                             ... \n",
       "Entertainment;Education         1\n",
       "Puzzle;Education                1\n",
       "Art & Design;Pretend Play       1\n",
       "Health & Fitness;Education      1\n",
       "Strategy;Creativity             1\n",
       "Name: Genres, Length: 115, dtype: int64"
      ]
     },
     "execution_count": 43,
     "metadata": {},
     "output_type": "execute_result"
    }
   ],
   "source": [
    "df['Genres'].value_counts(dropna=False)"
   ]
  },
  {
   "cell_type": "markdown",
   "id": "87edf079",
   "metadata": {},
   "source": [
    "## Cleaning numbers"
   ]
  },
  {
   "cell_type": "code",
   "execution_count": 44,
   "id": "afd1af66",
   "metadata": {},
   "outputs": [
    {
     "name": "stdout",
     "output_type": "stream",
     "text": [
      "[   1000000     100000     500000      50000   10000000    5000000\n",
      "      10000   50000000  100000000       5000       1000 1000000000\n",
      "        500        100         10         50  500000000          5\n",
      "          1]\n"
     ]
    }
   ],
   "source": [
    "import re\n",
    "\n",
    "# Define a function to clean the installs data\n",
    "def clean_installs(installs):\n",
    "    # Use a regular expression to remove the '+' symbol and any other non-numeric character\n",
    "    return re.sub(r'[^\\d]', '', installs)\n",
    "\n",
    "# Apply the clean_installs function to the 'Installs' column\n",
    "df['Installs'] = df['Installs'].apply(clean_installs)\n",
    "\n",
    "# Convert the 'Installs' column to numeric type\n",
    "df['Installs'] = pd.to_numeric(df['Installs'])\n",
    "\n",
    "# Show the results\n",
    "print(df['Installs'].unique())"
   ]
  },
  {
   "cell_type": "code",
   "execution_count": 45,
   "id": "f6a04cd5",
   "metadata": {},
   "outputs": [
    {
     "data": {
      "text/plain": [
       "1000000       1416\n",
       "100000        1095\n",
       "10000          986\n",
       "10000000       934\n",
       "1000           697\n",
       "5000000        608\n",
       "500000         504\n",
       "50000          457\n",
       "5000           425\n",
       "100            303\n",
       "50000000       203\n",
       "500            199\n",
       "100000000      188\n",
       "10              69\n",
       "50              56\n",
       "500000000       24\n",
       "1000000000      20\n",
       "5                9\n",
       "1                3\n",
       "Name: Installs, dtype: int64"
      ]
     },
     "execution_count": 45,
     "metadata": {},
     "output_type": "execute_result"
    }
   ],
   "source": [
    "df['Installs'].value_counts(dropna=False)"
   ]
  },
  {
   "cell_type": "code",
   "execution_count": 46,
   "id": "cd70f586",
   "metadata": {},
   "outputs": [
    {
     "data": {
      "text/html": [
       "<div>\n",
       "<style scoped>\n",
       "    .dataframe tbody tr th:only-of-type {\n",
       "        vertical-align: middle;\n",
       "    }\n",
       "\n",
       "    .dataframe tbody tr th {\n",
       "        vertical-align: top;\n",
       "    }\n",
       "\n",
       "    .dataframe thead th {\n",
       "        text-align: right;\n",
       "    }\n",
       "</style>\n",
       "<table border=\"1\" class=\"dataframe\">\n",
       "  <thead>\n",
       "    <tr style=\"text-align: right;\">\n",
       "      <th></th>\n",
       "      <th>App</th>\n",
       "      <th>Category</th>\n",
       "      <th>Rating</th>\n",
       "      <th>Reviews</th>\n",
       "      <th>Size</th>\n",
       "      <th>Installs</th>\n",
       "      <th>Type</th>\n",
       "      <th>Price</th>\n",
       "      <th>Content Rating</th>\n",
       "      <th>Genres</th>\n",
       "      <th>Last Updated</th>\n",
       "      <th>Current Ver</th>\n",
       "      <th>Android Ver</th>\n",
       "    </tr>\n",
       "  </thead>\n",
       "  <tbody>\n",
       "    <tr>\n",
       "      <th>2989</th>\n",
       "      <td>GollerCepte Live Score</td>\n",
       "      <td>SPORTS</td>\n",
       "      <td>4.2</td>\n",
       "      <td>9992</td>\n",
       "      <td>31M</td>\n",
       "      <td>1000000</td>\n",
       "      <td>Free</td>\n",
       "      <td>0</td>\n",
       "      <td>Everyone</td>\n",
       "      <td>Sports</td>\n",
       "      <td>May 23, 2018</td>\n",
       "      <td>6.5</td>\n",
       "      <td>4.1 and up</td>\n",
       "    </tr>\n",
       "    <tr>\n",
       "      <th>4970</th>\n",
       "      <td>Ad Block REMOVER - NEED ROOT</td>\n",
       "      <td>TOOLS</td>\n",
       "      <td>3.3</td>\n",
       "      <td>999</td>\n",
       "      <td>91k</td>\n",
       "      <td>100000</td>\n",
       "      <td>Free</td>\n",
       "      <td>0</td>\n",
       "      <td>Everyone</td>\n",
       "      <td>Tools</td>\n",
       "      <td>December 17, 2013</td>\n",
       "      <td>3.2</td>\n",
       "      <td>2.2 and up</td>\n",
       "    </tr>\n",
       "    <tr>\n",
       "      <th>2723</th>\n",
       "      <td>SnipSnap Coupon App</td>\n",
       "      <td>SHOPPING</td>\n",
       "      <td>4.2</td>\n",
       "      <td>9975</td>\n",
       "      <td>18M</td>\n",
       "      <td>1000000</td>\n",
       "      <td>Free</td>\n",
       "      <td>0</td>\n",
       "      <td>Everyone</td>\n",
       "      <td>Shopping</td>\n",
       "      <td>January 22, 2018</td>\n",
       "      <td>1.4</td>\n",
       "      <td>4.3 and up</td>\n",
       "    </tr>\n",
       "    <tr>\n",
       "      <th>3079</th>\n",
       "      <td>US Open Tennis Championships 2018</td>\n",
       "      <td>SPORTS</td>\n",
       "      <td>4.0</td>\n",
       "      <td>9971</td>\n",
       "      <td>33M</td>\n",
       "      <td>1000000</td>\n",
       "      <td>Free</td>\n",
       "      <td>0</td>\n",
       "      <td>Everyone</td>\n",
       "      <td>Sports</td>\n",
       "      <td>June 5, 2018</td>\n",
       "      <td>7.1</td>\n",
       "      <td>5.0 and up</td>\n",
       "    </tr>\n",
       "    <tr>\n",
       "      <th>3229</th>\n",
       "      <td>DreamTrips</td>\n",
       "      <td>TRAVEL_AND_LOCAL</td>\n",
       "      <td>4.7</td>\n",
       "      <td>9971</td>\n",
       "      <td>22M</td>\n",
       "      <td>500000</td>\n",
       "      <td>Free</td>\n",
       "      <td>0</td>\n",
       "      <td>Teen</td>\n",
       "      <td>Travel &amp; Local</td>\n",
       "      <td>August 6, 2018</td>\n",
       "      <td>1.28.1</td>\n",
       "      <td>5.0 and up</td>\n",
       "    </tr>\n",
       "  </tbody>\n",
       "</table>\n",
       "</div>"
      ],
      "text/plain": [
       "                                    App          Category  Rating Reviews  \\\n",
       "2989             GollerCepte Live Score            SPORTS     4.2    9992   \n",
       "4970       Ad Block REMOVER - NEED ROOT             TOOLS     3.3     999   \n",
       "2723                SnipSnap Coupon App          SHOPPING     4.2    9975   \n",
       "3079  US Open Tennis Championships 2018            SPORTS     4.0    9971   \n",
       "3229                         DreamTrips  TRAVEL_AND_LOCAL     4.7    9971   \n",
       "\n",
       "     Size  Installs  Type Price Content Rating          Genres  \\\n",
       "2989  31M   1000000  Free     0       Everyone          Sports   \n",
       "4970  91k    100000  Free     0       Everyone           Tools   \n",
       "2723  18M   1000000  Free     0       Everyone        Shopping   \n",
       "3079  33M   1000000  Free     0       Everyone          Sports   \n",
       "3229  22M    500000  Free     0           Teen  Travel & Local   \n",
       "\n",
       "           Last Updated Current Ver Android Ver  \n",
       "2989       May 23, 2018         6.5  4.1 and up  \n",
       "4970  December 17, 2013         3.2  2.2 and up  \n",
       "2723   January 22, 2018         1.4  4.3 and up  \n",
       "3079       June 5, 2018         7.1  5.0 and up  \n",
       "3229     August 6, 2018      1.28.1  5.0 and up  "
      ]
     },
     "execution_count": 46,
     "metadata": {},
     "output_type": "execute_result"
    }
   ],
   "source": [
    "df.head()"
   ]
  },
  {
   "cell_type": "code",
   "execution_count": 47,
   "id": "9318ec57",
   "metadata": {},
   "outputs": [],
   "source": [
    "df.to_csv('googleplaystore_clean.csv', index=False)"
   ]
  },
  {
   "cell_type": "markdown",
   "id": "4acdfed0",
   "metadata": {},
   "source": [
    "## Simple analysis"
   ]
  },
  {
   "cell_type": "code",
   "execution_count": 48,
   "id": "0585c5cb",
   "metadata": {},
   "outputs": [
    {
     "name": "stdout",
     "output_type": "stream",
     "text": [
      "                                           App  Rating Reviews  Installs\n",
      "9496                                Master E.K     5.0      90      1000\n",
      "9008                                  DW Timer     5.0       9       100\n",
      "9188                                EB Scanner     5.0       9        50\n",
      "5245                                AJ RETAILS     5.0       9        10\n",
      "8327       The Divine Feminine App: the DF App     5.0       8      1000\n",
      "7170  Yazdani Cd Center EllahAbad Official App     5.0       8       500\n",
      "9119                                   chat dz     5.0       8       100\n",
      "6861                       BV Sridhara Maharaj     5.0       8       100\n",
      "9293                                    EF App     5.0       8       100\n",
      "6391                     BK Arogyam Task Track     5.0       8       100\n"
     ]
    }
   ],
   "source": [
    "# Sort the DataFrame by Rating, Reviews, and Installs in descending order\n",
    "df_sorted = df.sort_values(by=['Rating', 'Reviews', 'Installs'], ascending=False)\n",
    "\n",
    "# Show the top rows of the sorted DataFrame, including the App name along with the columns of interest\n",
    "top_apps = df_sorted[['App', 'Rating', 'Reviews', 'Installs']].head(10) \n",
    "\n",
    "print(top_apps)"
   ]
  },
  {
   "cell_type": "code",
   "execution_count": 49,
   "id": "11f839ab",
   "metadata": {},
   "outputs": [
    {
     "name": "stdout",
     "output_type": "stream",
     "text": [
      "Top five app categories:\n",
      "FAMILY          1654\n",
      "GAME             895\n",
      "TOOLS            719\n",
      "FINANCE          302\n",
      "PRODUCTIVITY     301\n",
      "Name: Category, dtype: int64\n"
     ]
    }
   ],
   "source": [
    "top_five_categories = df['Category'].value_counts().head(5)\n",
    "print(\"Top five app categories:\")\n",
    "print(top_five_categories)"
   ]
  }
 ],
 "metadata": {
  "kernelspec": {
   "display_name": "Python 3 (ipykernel)",
   "language": "python",
   "name": "python3"
  },
  "language_info": {
   "codemirror_mode": {
    "name": "ipython",
    "version": 3
   },
   "file_extension": ".py",
   "mimetype": "text/x-python",
   "name": "python",
   "nbconvert_exporter": "python",
   "pygments_lexer": "ipython3",
   "version": "3.10.6"
  },
  "toc": {
   "base_numbering": 1,
   "nav_menu": {},
   "number_sections": true,
   "sideBar": true,
   "skip_h1_title": false,
   "title_cell": "Table of Contents",
   "title_sidebar": "Contents",
   "toc_cell": false,
   "toc_position": {},
   "toc_section_display": true,
   "toc_window_display": false
  }
 },
 "nbformat": 4,
 "nbformat_minor": 5
}
